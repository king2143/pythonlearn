{
  "nbformat": 4,
  "nbformat_minor": 0,
  "metadata": {
    "colab": {
      "name": "LSTM.ipynb",
      "provenance": [],
      "collapsed_sections": [],
      "machine_shape": "hm",
      "include_colab_link": true
    },
    "kernelspec": {
      "name": "python3",
      "display_name": "Python 3"
    },
    "accelerator": "GPU"
  },
  "cells": [
    {
      "cell_type": "markdown",
      "metadata": {
        "id": "view-in-github",
        "colab_type": "text"
      },
      "source": [
        "<a href=\"https://colab.research.google.com/github/machengnan/pythonlearn/blob/master/LSTM.ipynb\" target=\"_parent\"><img src=\"https://colab.research.google.com/assets/colab-badge.svg\" alt=\"Open In Colab\"/></a>"
      ]
    },
    {
      "cell_type": "code",
      "metadata": {
        "id": "ycV5IUvXMNO8",
        "colab_type": "code",
        "outputId": "9de63b17-de14-401a-ae5b-c4ffce08b50d",
        "colab": {
          "base_uri": "https://localhost:8080/",
          "height": 124
        }
      },
      "source": [
        "from google.colab import drive\n",
        "drive.mount('/content/drive')"
      ],
      "execution_count": 2,
      "outputs": [
        {
          "output_type": "stream",
          "text": [
            "Go to this URL in a browser: https://accounts.google.com/o/oauth2/auth?client_id=947318989803-6bn6qk8qdgf4n4g3pfee6491hc0brc4i.apps.googleusercontent.com&redirect_uri=urn%3aietf%3awg%3aoauth%3a2.0%3aoob&response_type=code&scope=email%20https%3a%2f%2fwww.googleapis.com%2fauth%2fdocs.test%20https%3a%2f%2fwww.googleapis.com%2fauth%2fdrive%20https%3a%2f%2fwww.googleapis.com%2fauth%2fdrive.photos.readonly%20https%3a%2f%2fwww.googleapis.com%2fauth%2fpeopleapi.readonly\n",
            "\n",
            "Enter your authorization code:\n",
            "··········\n",
            "Mounted at /content/drive\n"
          ],
          "name": "stdout"
        }
      ]
    },
    {
      "cell_type": "code",
      "metadata": {
        "id": "JbbmholJKOc6",
        "colab_type": "code",
        "colab": {}
      },
      "source": [
        "import warnings\n",
        "warnings.filterwarnings(\"ignore\")\n",
        "import random\n",
        "import pandas as pd\n",
        "import jieba\n",
        "from pandas import DataFrame as df \n",
        "data4 = pd.read_csv('/content/drive/My Drive/GPU/test_new.csv')\n",
        "data1 = pd.read_csv('/content/drive/My Drive/GPU/train.csv',sep='\\t')\n",
        "\n"
      ],
      "execution_count": 0,
      "outputs": []
    },
    {
      "cell_type": "code",
      "metadata": {
        "id": "OInRNqXe1ma-",
        "colab_type": "code",
        "colab": {
          "base_uri": "https://localhost:8080/",
          "height": 919
        },
        "outputId": "e27b6d76-75a2-4fe4-94bd-e94936cf98b1"
      },
      "source": [
        "jieba.suggest_freq('坏肚子', True)\n",
        "jieba.suggest_freq('无法接受', True)\n",
        "jieba.suggest_freq('卫生问题', True)\n",
        "jieba.suggest_freq('不新鲜', True)\n",
        "jieba.suggest_freq('不卫生', True)\n",
        "jieba.suggest_freq('酸', True)\n",
        "jieba.suggest_freq('虫', True)\n",
        "jieba.suggest_freq('黑', True)\n",
        "jieba.suggest_freq('吐', True)\n",
        "data1['comment'] = data1.comment.apply(lambda x: \" \".join(jieba.lcut(x, cut_all = False, HMM = True)))\n",
        "\n",
        "from keras.preprocessing.text import Tokenizer\n",
        "from keras.preprocessing.sequence import pad_sequences\n",
        "import numpy as np\n",
        "\n",
        "tokenizer = Tokenizer(num_words=10000)\n",
        "tokenizer.fit_on_texts(data1.comment)\n",
        "tokenizer.word_index \n",
        "sequences = tokenizer.texts_to_sequences(data1.comment)\n",
        "seq = pad_sequences(sequences, maxlen=150)\n",
        "X = seq\n",
        "Y = data1['label']\n",
        "#######################################################################################\n",
        "from sklearn.model_selection import train_test_split\n",
        "X_train, X_test, y_train, y_test = train_test_split(X, Y, test_size=0.1, random_state=25)\n",
        "from keras.models import Sequential\n",
        "from keras.layers import Dense, Dropout, Embedding, Flatten, LSTM, GRU\n",
        "\n",
        "model = Sequential()\n",
        "model.add(Embedding(output_dim=32,input_dim=10000,input_length= X.shape[1]))\n",
        "model.add(Dropout(0.5))\n",
        "model.add(LSTM(16))\n",
        "model.add(Dense(units=256,activation='relu'))\n",
        "model.add(Dropout(0.5))\n",
        "model.add(Dense(units=1,activation='sigmoid'))\n",
        "model.compile(loss='binary_crossentropy', \n",
        "              optimizer='rmsprop', \n",
        "              metrics=['accuracy'])\n",
        "\n",
        "train_history =model.fit(X_train, y_train,batch_size = 512, \n",
        "                         epochs=25,verbose=2,\n",
        "                         validation_split=0.5)\n",
        "\n",
        "from sklearn.metrics import f1_score\n",
        "a = list(model.predict_classes(X_test))\n",
        "a = [int(i) for i in a]\n",
        "print(f1_score(y_test, a))"
      ],
      "execution_count": 39,
      "outputs": [
        {
          "output_type": "stream",
          "text": [
            "Train on 4500 samples, validate on 4500 samples\n",
            "Epoch 1/25\n",
            " - 12s - loss: 0.6374 - acc: 0.7958 - val_loss: 0.5464 - val_acc: 0.8509\n",
            "Epoch 2/25\n",
            " - 4s - loss: 0.4673 - acc: 0.8438 - val_loss: 0.3752 - val_acc: 0.8509\n",
            "Epoch 3/25\n",
            " - 4s - loss: 0.3626 - acc: 0.8438 - val_loss: 0.3320 - val_acc: 0.8509\n",
            "Epoch 4/25\n",
            " - 4s - loss: 0.3054 - acc: 0.8438 - val_loss: 0.2756 - val_acc: 0.8513\n",
            "Epoch 5/25\n",
            " - 4s - loss: 0.2417 - acc: 0.8598 - val_loss: 0.2305 - val_acc: 0.8762\n",
            "Epoch 6/25\n",
            " - 4s - loss: 0.2239 - acc: 0.9044 - val_loss: 0.2246 - val_acc: 0.9164\n",
            "Epoch 7/25\n",
            " - 4s - loss: 0.1776 - acc: 0.9442 - val_loss: 0.2002 - val_acc: 0.9204\n",
            "Epoch 8/25\n",
            " - 4s - loss: 0.1504 - acc: 0.9480 - val_loss: 0.1887 - val_acc: 0.9240\n",
            "Epoch 9/25\n",
            " - 4s - loss: 0.1261 - acc: 0.9564 - val_loss: 0.1779 - val_acc: 0.9251\n",
            "Epoch 10/25\n",
            " - 3s - loss: 0.1082 - acc: 0.9649 - val_loss: 0.1714 - val_acc: 0.9293\n",
            "Epoch 11/25\n",
            " - 3s - loss: 0.0855 - acc: 0.9713 - val_loss: 0.1694 - val_acc: 0.9358\n",
            "Epoch 12/25\n",
            " - 4s - loss: 0.0729 - acc: 0.9740 - val_loss: 0.1663 - val_acc: 0.9373\n",
            "Epoch 13/25\n",
            " - 4s - loss: 0.0611 - acc: 0.9796 - val_loss: 0.1745 - val_acc: 0.9398\n",
            "Epoch 14/25\n",
            " - 4s - loss: 0.0543 - acc: 0.9822 - val_loss: 0.1759 - val_acc: 0.9400\n",
            "Epoch 15/25\n",
            " - 4s - loss: 0.0430 - acc: 0.9869 - val_loss: 0.1913 - val_acc: 0.9404\n",
            "Epoch 16/25\n",
            " - 3s - loss: 0.0411 - acc: 0.9864 - val_loss: 0.1929 - val_acc: 0.9378\n",
            "Epoch 17/25\n",
            " - 4s - loss: 0.0321 - acc: 0.9904 - val_loss: 0.1995 - val_acc: 0.9391\n",
            "Epoch 18/25\n",
            " - 4s - loss: 0.0334 - acc: 0.9887 - val_loss: 0.2094 - val_acc: 0.9220\n",
            "Epoch 19/25\n",
            " - 3s - loss: 0.0254 - acc: 0.9918 - val_loss: 0.2130 - val_acc: 0.9391\n",
            "Epoch 20/25\n",
            " - 4s - loss: 0.0207 - acc: 0.9931 - val_loss: 0.2134 - val_acc: 0.9329\n",
            "Epoch 21/25\n",
            " - 4s - loss: 0.0170 - acc: 0.9944 - val_loss: 0.2194 - val_acc: 0.9393\n",
            "Epoch 22/25\n",
            " - 4s - loss: 0.0127 - acc: 0.9964 - val_loss: 0.2397 - val_acc: 0.9431\n",
            "Epoch 23/25\n",
            " - 4s - loss: 0.0128 - acc: 0.9958 - val_loss: 0.2433 - val_acc: 0.9407\n",
            "Epoch 24/25\n",
            " - 3s - loss: 0.0125 - acc: 0.9947 - val_loss: 0.2480 - val_acc: 0.9382\n",
            "Epoch 25/25\n",
            " - 3s - loss: 0.0083 - acc: 0.9964 - val_loss: 0.2533 - val_acc: 0.9384\n",
            "0.7781818181818182\n"
          ],
          "name": "stdout"
        }
      ]
    }
  ]
}